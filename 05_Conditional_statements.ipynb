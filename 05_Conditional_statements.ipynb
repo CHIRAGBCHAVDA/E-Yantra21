{
 "cells": [
  {
   "cell_type": "markdown",
   "metadata": {},
   "source": [
    "## <center>Conditional Statements </center>\n",
    "### <center>Author: e-Yantra Team </center>"
   ]
  },
  {
   "cell_type": "markdown",
   "metadata": {},
   "source": [
    "## Topics covered\n",
    "\n",
    "- if\n",
    "- if-else\n",
    "- nested if-else\n",
    "    "
   ]
  },
  {
   "cell_type": "markdown",
   "metadata": {},
   "source": [
    "## Operators\n",
    "\n",
    "\"<\" : Less Than\n",
    "\n",
    "\"<=\" : Less Than or Equal to\n",
    "\n",
    "\">\" : More Than \n",
    "\n",
    "\">=\" : More Than or Equal to\n",
    "\n",
    "\"==\" : Equal to\n",
    "\n",
    "\"!=\" : Not Equal to\n",
    "\n",
    "## if statement\n"
   ]
  },
  {
   "cell_type": "code",
   "execution_count": 1,
   "metadata": {},
   "outputs": [
    {
     "name": "stdout",
     "output_type": "stream",
     "text": [
      "number 1 is divisible by number 2\n"
     ]
    }
   ],
   "source": [
    "num_1 = 6\n",
    "num_2 = 2\n",
    "\n",
    "if (num_1%num_2 == 0):\n",
    "    print (\"number 1 is divisible by number 2\")"
   ]
  },
  {
   "cell_type": "markdown",
   "metadata": {},
   "source": [
    "## if-else statement"
   ]
  },
  {
   "cell_type": "code",
   "execution_count": 2,
   "metadata": {},
   "outputs": [
    {
     "name": "stdout",
     "output_type": "stream",
     "text": [
      "number 1 is not divisible by number 2\n"
     ]
    }
   ],
   "source": [
    "num_1 = 6\n",
    "num_2 = 4\n",
    "\n",
    "if (num_1%num_2 == 0):\n",
    "    print (\"number 1 is divisible by number 2\")\n",
    "else:\n",
    "    print (\"number 1 is not divisible by number 2\")"
   ]
  },
  {
   "cell_type": "markdown",
   "metadata": {},
   "source": [
    "## if - elif - else"
   ]
  },
  {
   "cell_type": "code",
   "execution_count": 3,
   "metadata": {},
   "outputs": [
    {
     "name": "stdout",
     "output_type": "stream",
     "text": [
      "6 is divisible 2\n"
     ]
    }
   ],
   "source": [
    "num_1 = 6\n",
    "num_2 = 2\n",
    "\n",
    "if (num_1%num_2 == 0):\n",
    "    print (\"%d is divisible %d\" %(num_1,num_2))\n",
    "elif (num_2%num_1 == 0):\n",
    "    print (\"%d is divisible %d\" %(num_2,num_1))\n",
    "else:\n",
    "    print (\"Both numbers are not divisible by each other\")"
   ]
  },
  {
   "cell_type": "markdown",
   "metadata": {},
   "source": [
    "## Nested if-else"
   ]
  },
  {
   "cell_type": "code",
   "execution_count": 4,
   "metadata": {},
   "outputs": [
    {
     "name": "stdout",
     "output_type": "stream",
     "text": [
      "Division by Zero is not allowed\n"
     ]
    }
   ],
   "source": [
    "num_1 = 4\n",
    "num_2 = 0\n",
    "\n",
    "if num_2 == 0:\n",
    "    print (\"Division by Zero is not allowed\")\n",
    "\n",
    "elif num_2 != 0:\n",
    "    if (num_1%num_2 == 0):\n",
    "        print (\"%d is divisible %d\" %(num_1,num_2))\n",
    "    else:\n",
    "        print (\"%d is not divisible %d\" %(num_1,num_2))"
   ]
  }
 ],
 "metadata": {
  "kernelspec": {
   "display_name": "NB_9999",
   "language": "python",
   "name": "nb_9999"
  },
  "language_info": {
   "codemirror_mode": {
    "name": "ipython",
    "version": 3
   },
   "file_extension": ".py",
   "mimetype": "text/x-python",
   "name": "python",
   "nbconvert_exporter": "python",
   "pygments_lexer": "ipython3",
   "version": "3.8.5"
  }
 },
 "nbformat": 4,
 "nbformat_minor": 2
}
