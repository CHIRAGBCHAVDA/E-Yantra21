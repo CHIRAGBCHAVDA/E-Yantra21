{
 "cells": [
  {
   "cell_type": "markdown",
   "metadata": {},
   "source": [
    "## <center>Strings </center>\n",
    "### <center>Author: e-Yantra Team </center>"
   ]
  },
  {
   "cell_type": "markdown",
   "metadata": {},
   "source": [
    "## Topics covered\n",
    "- Defining String\n",
    "- Indexing, Slicing\n",
    "- Various methods\n",
    "    - strip\n",
    "    - split\n",
    "    - lower, upper\n",
    "    - find\n",
    "    - join\n",
    "    - count\n",
    "    - replace"
   ]
  },
  {
   "cell_type": "markdown",
   "metadata": {},
   "source": [
    "## Defining string\n",
    "\n",
    "- Created by enclosing characters in quotes - single, double or triple quotes. \n",
    "- Python treats single quotes the same as double quotes "
   ]
  },
  {
   "cell_type": "code",
   "execution_count": 1,
   "metadata": {},
   "outputs": [],
   "source": [
    "string_1 = \"Hello Python. \"\n",
    "string_2 = 'Welcome to programming'"
   ]
  },
  {
   "cell_type": "markdown",
   "metadata": {},
   "source": [
    "## String Operators\n",
    "\n",
    "- \" + \" : Concatenation - Adds multiple strings\n",
    "- \" * \" : Repetition - repeat multiple string\n",
    "- Membership check operator - check if character or substring is present in the string\n",
    "    - \"in\": Return `True` if character/substring exsist\n",
    "    - \"not in\": Return `False` if character/substring exsist"
   ]
  },
  {
   "cell_type": "code",
   "execution_count": 2,
   "metadata": {
    "scrolled": true
   },
   "outputs": [
    {
     "name": "stdout",
     "output_type": "stream",
     "text": [
      "Hello Python.Welcome to programming\n",
      "Hello Python. Welcome to programming world.\n"
     ]
    }
   ],
   "source": [
    "# Concatenation\n",
    "string_1 = \"Hello Python.\"\n",
    "string_2 = 'Welcome to programming'\n",
    "\n",
    "print (string_1 + string_2)\n",
    "print (string_1+ \" \" + string_2 + \" world.\")"
   ]
  },
  {
   "cell_type": "code",
   "execution_count": 3,
   "metadata": {},
   "outputs": [
    {
     "name": "stdout",
     "output_type": "stream",
     "text": [
      "HelloHelloHelloHello\n"
     ]
    }
   ],
   "source": [
    "# Repetition\n",
    "string_1 = 4*\"Hello\"\n",
    "\n",
    "print (string_1)"
   ]
  },
  {
   "cell_type": "code",
   "execution_count": 4,
   "metadata": {},
   "outputs": [
    {
     "name": "stdout",
     "output_type": "stream",
     "text": [
      "True\n",
      "False\n",
      "False\n"
     ]
    }
   ],
   "source": [
    "# Membership\n",
    "string_1 = \"Hello Python \"\n",
    "\n",
    "print (\"Hello\" in string_1) #Remember that it is case sensitive  \n",
    "print (\"hello\" in string_1)\n",
    "print (\"hell\" in string_1)"
   ]
  },
  {
   "cell_type": "markdown",
   "metadata": {},
   "source": [
    "## Accessing string using slicing and indexing\n",
    "\n",
    "- use the square brackets for slicing along with the index or indices to obtain your substring.\n",
    "- Indexing starts from 0.\n",
    "- variable name[a:b:c]\n",
    "    - here a is starting index and ends at b-1 index (note index starts from 0)\n",
    "      c is step size, default is 1\n",
    "- negative indexing - last element is also index as -1 going through -2,-3.. as we go towards left"
   ]
  },
  {
   "cell_type": "code",
   "execution_count": 5,
   "metadata": {},
   "outputs": [
    {
     "name": "stdout",
     "output_type": "stream",
     "text": [
      "H\n",
      "n\n",
      "He\n",
      "n\n",
      "ello Pyth\n",
      "HloPto\n",
      "nohtyP olleH\n",
      "<class 'str'>\n"
     ]
    }
   ],
   "source": [
    "string_1 = \"Hello Python\"\n",
    "print (string_1[0])        # print first character\n",
    "print (string_1[-1])\n",
    "print (string_1[0:2])       # print character at 0 and 1 index\n",
    "print (string_1[-1:])       # printing from backward. print character at last index\n",
    "print (string_1[1:-2])      # \n",
    "print (string_1[::2])       # printing every alternate digit\n",
    "print (string_1[::-1])      # printing reverse string\n",
    "print (type(string_1[0]))"
   ]
  },
  {
   "cell_type": "markdown",
   "metadata": {},
   "source": [
    "## String Methods\n",
    "\n",
    "- `capitalize()` - return string with first letter in upper case\n",
    "- `upper()`      - return string with all letter in upper case\n",
    "- `lower()`      - return string with all letter in lower case\n",
    "- `count(str)`   - count occurrence of 'str' in string\n",
    "- `find(str)`    - find 'str' in string. If found: return start index of first occurrance str, else return -1\n",
    "- `index(str)`   - same as find, but raises exception when str is not found\n",
    "- `join(seq)`    - join string represented as sequence into a string with a separator string between each string\n",
    "- `len(str)`     - returns length of string\n",
    "- `replace()`    - returns a copy of the string in which the occurrences of old have been replaced with new,                          optionally restricting the number of replacements to max.\n",
    "- `split(str)`   - return a list which has string of words separated by str\n",
    "- `strip(str)`   - remove occurrence of str from the beginning and the end of the string "
   ]
  },
  {
   "cell_type": "code",
   "execution_count": 6,
   "metadata": {},
   "outputs": [
    {
     "name": "stdout",
     "output_type": "stream",
     "text": [
      "Actual string:  hello Python, the string handling features are awesome\n",
      "Capitalize:  Hello python, the string handling features are awesome\n"
     ]
    }
   ],
   "source": [
    "# Capitalize string - Convert first character to upper case and other to lower case\n",
    "string_1 = \"hello Python, the string handling features are awesome\"\n",
    "print (\"Actual string: \", string_1)\n",
    "\n",
    "print (\"Capitalize: \",string_1.capitalize())            # First character of string is changed to upper case"
   ]
  },
  {
   "cell_type": "code",
   "execution_count": 7,
   "metadata": {},
   "outputs": [
    {
     "name": "stdout",
     "output_type": "stream",
     "text": [
      "Actual string:  Hello Python, the string handling features are awesome\n",
      "Upper Case:  HELLO PYTHON, THE STRING HANDLING FEATURES ARE AWESOME\n"
     ]
    }
   ],
   "source": [
    "# Convert to upper case\n",
    "string_1 = \"Hello Python, the string handling features are awesome\"\n",
    "print (\"Actual string: \", string_1)\n",
    "\n",
    "print (\"Upper Case: \",string_1.upper())    # All characters are changed to upper case\n",
    "# print string_1"
   ]
  },
  {
   "cell_type": "code",
   "execution_count": 8,
   "metadata": {},
   "outputs": [
    {
     "name": "stdout",
     "output_type": "stream",
     "text": [
      "Actual string:  Hello Python, the string handling features are awesome\n",
      "Lower case:  hello python, the string handling features are awesome\n"
     ]
    }
   ],
   "source": [
    "# Convert to lower case\n",
    "string_1 = \"Hello Python, the string handling features are awesome\"\n",
    "print (\"Actual string: \", string_1)\n",
    "\n",
    "print (\"Lower case: \",string_1.lower())    # All characters are changed to lower case\n",
    "# print string_1"
   ]
  },
  {
   "cell_type": "code",
   "execution_count": 9,
   "metadata": {},
   "outputs": [
    {
     "name": "stdout",
     "output_type": "stream",
     "text": [
      "Actual string:  Hello Python, the string handling features are awesome\n",
      "Count of 'P':  1\n",
      "Count of 'th':  2\n"
     ]
    }
   ],
   "source": [
    "# Count occurrances\n",
    "string_1 = \"Hello Python, the string handling features are awesome\"\n",
    "print (\"Actual string: \", string_1)\n",
    "\n",
    "print (\"Count of 'P': \",string_1.count('P'))      # Count occurrances of character 'P' in string\n",
    "print (\"Count of 'th': \",string_1.count('th'))    # Count occurrances of string 'th' in string"
   ]
  },
  {
   "cell_type": "code",
   "execution_count": 10,
   "metadata": {
    "scrolled": true
   },
   "outputs": [
    {
     "name": "stdout",
     "output_type": "stream",
     "text": [
      "Actual string:  Hello Python, the string handling features are awesome\n",
      "Index of occurrance of 'lo':  3\n",
      "Index of occurrance of 'th':  8\n"
     ]
    }
   ],
   "source": [
    "# Index of occurrance using find\n",
    "string_1 = \"Hello Python, the string handling features are awesome\"\n",
    "print (\"Actual string: \", string_1)\n",
    "\n",
    "print (\"Index of occurrance of 'lo': \",string_1.find('lo'))\n",
    "print (\"Index of occurrance of 'th': \",string_1.find('th')) # Index of first occurrance\n",
    "#If python is not able to find the string mentioned it will return -1"
   ]
  },
  {
   "cell_type": "code",
   "execution_count": 11,
   "metadata": {},
   "outputs": [
    {
     "name": "stdout",
     "output_type": "stream",
     "text": [
      "Actual string:  Hello Python, the string handling features are awesome\n",
      "Index of occurrance of 'lo':  3\n",
      "Index of occurrance of 'th':  8\n"
     ]
    }
   ],
   "source": [
    "# Index of occurrance using index\n",
    "string_1 = \"Hello Python, the string handling features are awesome\"\n",
    "print (\"Actual string: \", string_1)\n",
    "\n",
    "print (\"Index of occurrance of 'lo': \",string_1.index('lo'))\n",
    "print (\"Index of occurrance of 'th': \",string_1.index('th')) # Index of first occurrance\n",
    "#If python is not able to find the index of the string mentioned it will throw an exception in this case"
   ]
  },
  {
   "cell_type": "code",
   "execution_count": 12,
   "metadata": {},
   "outputs": [
    {
     "name": "stdout",
     "output_type": "stream",
     "text": [
      "level\n",
      "Join characters with '-': w-o-r-l-d\n",
      "Join characters with ',': w,o,r,l,d\n"
     ]
    }
   ],
   "source": [
    "# Joining each element of string\n",
    "\n",
    "letter = \"e\"\n",
    "word = \"lvl\"\n",
    "new_word = letter.join(word)\n",
    "print (new_word)\n",
    "\n",
    "print (\"Join characters with '-': \"+ \"-\".join(\"world\"))\n",
    "print (\"Join characters with ',': \"+ \",\".join(\"world\"))"
   ]
  },
  {
   "cell_type": "code",
   "execution_count": 13,
   "metadata": {},
   "outputs": [
    {
     "name": "stdout",
     "output_type": "stream",
     "text": [
      "Actual string:  Hello Python,the string handling features are awesome\n",
      "length of string_1 is:  53\n",
      "Maximum value is:  y\n",
      "Minimum value is (space which is not visible):   \n"
     ]
    }
   ],
   "source": [
    "# length, minimum value and maximum value\n",
    "string_1 = \"Hello Python,the string handling features are awesome\"\n",
    "print (\"Actual string: \", string_1)\n",
    "\n",
    "print (\"length of string_1 is: \",len(string_1))   # returns length of string\n",
    "print (\"Maximum value is: \",max(string_1))        # returns largest element of string \n",
    "print (\"Minimum value is (space which is not visible): \",min(string_1)) #returns space since it has lowest ASCII value in the string given\n",
    "#Remove the spaces in the string to see what happens."
   ]
  },
  {
   "cell_type": "code",
   "execution_count": 14,
   "metadata": {},
   "outputs": [
    {
     "name": "stdout",
     "output_type": "stream",
     "text": [
      "Actual string:  Hello Python, the string handling features are the best\n",
      "Replaced occurrance of 'th':  Hello Py!!on, the string handling features are the best\n",
      "Replaced occurrance of 'th':  Hello Py!!on, !!e string handling features are !!e best\n",
      "Hello Python, the string handling features are the best\n"
     ]
    }
   ],
   "source": [
    "# Replace\n",
    "string_1 = \"Hello Python, the string handling features are the best\"\n",
    "print (\"Actual string: \", string_1)\n",
    "\n",
    "#string.replace returns a copy of the string and doesn't alter the orignal string.\n",
    "print (\"Replaced occurrance of 'th': \", string_1.replace('th','!!',1))   # replace only first occurrance\n",
    "print (\"Replaced occurrance of 'th': \", string_1.replace('th','!!',3))   # replace all occurrances\n",
    "print (string_1) #The orignal string remains the same"
   ]
  },
  {
   "cell_type": "code",
   "execution_count": 15,
   "metadata": {},
   "outputs": [
    {
     "name": "stdout",
     "output_type": "stream",
     "text": [
      "Actual string:  Hello Python, the string handling features are awesome\n",
      "['Hello', 'Python,', 'the', 'string', 'handling', 'features', 'are', 'awesome']\n",
      "8\n",
      "['Hello Python, the string handling features are awesome']\n",
      "1\n",
      "Hello Python, the string handling features are awesome\n"
     ]
    }
   ],
   "source": [
    "# split string\n",
    "string_1 = \"Hello Python, the string handling features are awesome\"\n",
    "print (\"Actual string: \", string_1)\n",
    "\n",
    "string_to_list = (string_1.split())\n",
    "print (string_to_list)\n",
    "print (len(string_to_list))\n",
    "\n",
    "string_to_list = string_1.split(\" \",0) #The list contains only the zeroth element\n",
    "print (string_to_list)\n",
    "print (len(string_to_list))\n",
    "print (string_1)"
   ]
  },
  {
   "cell_type": "code",
   "execution_count": 16,
   "metadata": {},
   "outputs": [
    {
     "name": "stdout",
     "output_type": "stream",
     "text": [
      "Actual string:  0 00Hello Python, the string handling features are awesome00\n",
      "60\n",
      "0 00Hello Python, the string handling features are awesome00\n",
      "60\n",
      " 00Hello Python, the string handling features are awesome\n",
      "57\n",
      "Hello Python, the string handling features are awesome\n"
     ]
    }
   ],
   "source": [
    "# strip unwanted characters from beginning and end of string\n",
    "string_1 = \"0 00Hello Python, the string handling features are awesome00\"\n",
    "print (\"Actual string: \", string_1)\n",
    "print (len(string_1))\n",
    "print (string_1.strip())\n",
    "print (len(string_1.strip()))\n",
    "print (string_1.strip(\"0\"))\n",
    "print (len(string_1.strip(\"0\")))\n",
    "print (string_1.strip(\"0 \"))\n",
    "#Note the addition of a space after '0' in the last strip statement. Also, the orignal string is not at all altered during this command.\n",
    "#print (string_1)"
   ]
  }
 ],
 "metadata": {
  "kernelspec": {
   "display_name": "NB_9999",
   "language": "python",
   "name": "nb_9999"
  },
  "language_info": {
   "codemirror_mode": {
    "name": "ipython",
    "version": 3
   },
   "file_extension": ".py",
   "mimetype": "text/x-python",
   "name": "python",
   "nbconvert_exporter": "python",
   "pygments_lexer": "ipython3",
   "version": "3.8.5"
  }
 },
 "nbformat": 4,
 "nbformat_minor": 2
}
