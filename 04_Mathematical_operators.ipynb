{
 "cells": [
  {
   "cell_type": "markdown",
   "metadata": {},
   "source": [
    "## <center>Mathematical Operators </center>\n",
    "### <center>Author: e-Yantra Team </center>"
   ]
  },
  {
   "cell_type": "markdown",
   "metadata": {},
   "source": [
    "## Topics covered:\n",
    "\n",
    "- Basic Mathematical Operators - Addition, Subtraction, Multiplication, Division, Power"
   ]
  },
  {
   "cell_type": "code",
   "execution_count": 1,
   "metadata": {},
   "outputs": [
    {
     "name": "stdout",
     "output_type": "stream",
     "text": [
      "6\n",
      "2\n",
      "8\n",
      "2.5\n",
      "2.5\n",
      "-2.5\n",
      "-2.5\n",
      "2\n",
      "0\n",
      "16\n",
      "(2, 0)\n",
      "<class 'tuple'>\n"
     ]
    }
   ],
   "source": [
    "x = 4\n",
    "y = 2\n",
    "\n",
    "print (x + y)      # Addition\n",
    "print (x - y)      # Subtraction\n",
    "print (x * y)      # Multiplication\n",
    "print (5 / 2)      # Division\n",
    "print (5.0 / 2)\n",
    "print (-5 / 2)\n",
    "print (-5.0 / 2)\n",
    "print (5 // 2)      #(floored) quotient of x and y\n",
    "print (x % y)       # Modulus - return reminder\n",
    "print (x ** y)      # Power\n",
    "print (divmod(x,y)) # return quotient, reminder\n",
    "print (type(divmod(x,y)))"
   ]
  },
  {
   "cell_type": "code",
   "execution_count": 2,
   "metadata": {},
   "outputs": [
    {
     "name": "stdout",
     "output_type": "stream",
     "text": [
      "10\n"
     ]
    }
   ],
   "source": [
    "print (abs(-10))"
   ]
  },
  {
   "cell_type": "code",
   "execution_count": 3,
   "metadata": {},
   "outputs": [
    {
     "name": "stdout",
     "output_type": "stream",
     "text": [
      "1.5\n",
      "1.48\n",
      "1.484\n",
      "1.484\n"
     ]
    }
   ],
   "source": [
    "print (round(1.484,1))\n",
    "print (round(1.484,2))\n",
    "print (round(1.484,3))\n",
    "print (round(1.484,4))"
   ]
  },
  {
   "cell_type": "markdown",
   "metadata": {},
   "source": [
    "### Using math module\n",
    "\n",
    "use import math"
   ]
  },
  {
   "cell_type": "code",
   "execution_count": 4,
   "metadata": {},
   "outputs": [
    {
     "name": "stdout",
     "output_type": "stream",
     "text": [
      "3\n",
      "2\n",
      "2.718281828459045\n",
      "3.141592653589793\n",
      "1.0\n",
      "2.0\n"
     ]
    }
   ],
   "source": [
    "import math as m\n",
    "\n",
    "print (m.ceil(2.33))\n",
    "print (m.floor(2.33))\n",
    "print (m.exp(1))      # exp(x) - return e**x\n",
    "print (m.pi)\n",
    "print (m.log(2,2))\n",
    "print (m.sqrt(4))"
   ]
  }
 ],
 "metadata": {
  "kernelspec": {
   "display_name": "NB_9999",
   "language": "python",
   "name": "nb_9999"
  },
  "language_info": {
   "codemirror_mode": {
    "name": "ipython",
    "version": 3
   },
   "file_extension": ".py",
   "mimetype": "text/x-python",
   "name": "python",
   "nbconvert_exporter": "python",
   "pygments_lexer": "ipython3",
   "version": "3.8.5"
  }
 },
 "nbformat": 4,
 "nbformat_minor": 2
}
