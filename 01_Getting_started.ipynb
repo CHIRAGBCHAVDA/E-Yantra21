{
 "cells": [
  {
   "cell_type": "markdown",
   "metadata": {},
   "source": [
    "# <center>Getting Started with Python </center>\n",
    "#### <center>Author: e-Yantra Team </center><img float=\"left\" src=\"Assets/python_img_logo.png\" alt=\"python prompt is command line\">"
   ]
  },
  {
   "cell_type": "markdown",
   "metadata": {},
   "source": [
    "## A byte of Python\n",
    "- Interpreted high-level programming language for general-purpose programming\n",
    "- Created by Guido van Rossum and first released in 1991\n",
    "- Design philosophy that emphasizes code readability\n",
    "- Extraordinary growth of the Python programming language in the last five years, as seen by Stack Overflow traffic within high-income countries\n"
   ]
  },
  {
   "cell_type": "markdown",
   "metadata": {},
   "source": [
    "<img src=\"popularity_of_python.png\" alt=\"python prompt is command line\" width=\"700\" height=\"200\">\n",
    "source : https://stackoverflow.blog/2017/09/06/incredible-growth-python/"
   ]
  },
  {
   "cell_type": "markdown",
   "metadata": {},
   "source": [
    "## Why Python ?\n",
    "- High level programming language\n",
    "- Designed to be easy to learn and master\n",
    "- Clean and clear syntax\n",
    "- Highly portable\n",
    "- Lots of libraries\n",
    "- Extremely readable code"
   ]
  },
  {
   "cell_type": "markdown",
   "metadata": {},
   "source": [
    "<img src=\"Assets/non-programmer.png\" alt=\"python prompt is command line\" width=\"200\" height=\"100\">"
   ]
  },
  {
   "cell_type": "markdown",
   "metadata": {},
   "source": [
    "<img src=\"Assets/programmer.png\" alt=\"python prompt is command line\" width=\"200\" height=\"100\">"
   ]
  },
  {
   "cell_type": "markdown",
   "metadata": {},
   "source": [
    "<img src=\"Assets/python-programmer.png\" alt=\"python prompt is command line\" width=\"300\" height=\"400\">"
   ]
  },
  {
   "cell_type": "markdown",
   "metadata": {},
   "source": [
    "## Topics covered in Python Tutorials\n",
    "- Writing a Python script\n",
    "- Print and input\n",
    "- Basic data types\n",
    "- Strings\n",
    "- Lists\n",
    "- Dictionaries\n",
    "- Tuples\n",
    "- Conditional statements\n",
    "- Control structures\n",
    "- Loops\n",
    "- Functions\n",
    "- Modules"
   ]
  },
  {
   "cell_type": "markdown",
   "metadata": {},
   "source": [
    "## Topics covered in this tutorial\n",
    "- How to run an interactive python session in terminal\n",
    "- Understanding difference between Compiler and Interpreter\n",
    "- Running Python script\n",
    "- print statement\n",
    "- Escape Sequence\n",
    "- input - return string, \n",
    "- reserved keywords\n",
    "- Code Comments"
   ]
  },
  {
   "cell_type": "markdown",
   "metadata": {},
   "source": [
    "## Interactive Python session in Terminal\n",
    "\n",
    "- Useful for testing small python code\n",
    "- Open Terminal -> type `python` and press Enter\n",
    "- Python prompt will open as shown in figure below\n",
    "<img src=\"Assets/python_prompt.png\" alt=\"python prompt is command line\">\n",
    "\n",
    "\n",
    "- To exit from prompt -> type `exit()` and press Enter"
   ]
  },
  {
   "cell_type": "markdown",
   "metadata": {},
   "source": [
    "## Running Python Program\n",
    "- Python program are saved a with a **.py** extension. Example: filename.py\n",
    "- Python program can be run from terminal by typing `python filename.py`"
   ]
  },
  {
   "cell_type": "markdown",
   "metadata": {},
   "source": [
    "## How to print on console ?"
   ]
  },
  {
   "cell_type": "code",
   "execution_count": 1,
   "metadata": {},
   "outputs": [
    {
     "name": "stdout",
     "output_type": "stream",
     "text": [
      "Hello world\n"
     ]
    }
   ],
   "source": [
    "print (\"Hello world\")"
   ]
  },
  {
   "cell_type": "code",
   "execution_count": 2,
   "metadata": {},
   "outputs": [
    {
     "name": "stdout",
     "output_type": "stream",
     "text": [
      "Python is a string, 4 is a decimal integer and 3.330 is floating number upto 3 decimal place\n"
     ]
    }
   ],
   "source": [
    "# %s, %d and %f are called format specifiers \n",
    "print (\"%s is a string, %d is a decimal integer and %.3f is floating number upto 3 decimal place\" %(\"Python\",4,3.33))"
   ]
  },
  {
   "cell_type": "code",
   "execution_count": 3,
   "metadata": {
    "scrolled": true
   },
   "outputs": [
    {
     "name": "stdout",
     "output_type": "stream",
     "text": [
      "123\n"
     ]
    }
   ],
   "source": [
    "# Avoiding new line with multiple prints\n",
    "\n",
    "print (\"1\", end=\"\")\n",
    "print (\"2\", end=\"\")\n",
    "print (\"3\")"
   ]
  },
  {
   "cell_type": "code",
   "execution_count": 4,
   "metadata": {},
   "outputs": [
    {
     "name": "stdout",
     "output_type": "stream",
     "text": [
      "Welcome to e-Yantra Robotics Competition(eYRC)-2020!\n"
     ]
    }
   ],
   "source": [
    "print (\"Welcome to e-Yantra Robotics Competition({})-{}!\".format('eYRC',2020))"
   ]
  },
  {
   "cell_type": "markdown",
   "metadata": {},
   "source": [
    "##  How to input from user ?\n",
    "\n"
   ]
  },
  {
   "cell_type": "code",
   "execution_count": 5,
   "metadata": {},
   "outputs": [
    {
     "name": "stdout",
     "output_type": "stream",
     "text": [
      "Type your name and press enter: Alice\n",
      "Welcome 'Alice' to e-Yantra tutorials.\n"
     ]
    }
   ],
   "source": [
    "name = input(\"Type your name and press enter: \")     # input reads a line from input and return it as string \n",
    "print (\"Welcome '%s' to e-Yantra tutorials.\" %name)\n",
    "# type of name\n",
    "# typecasting into other datatypes"
   ]
  },
  {
   "cell_type": "markdown",
   "metadata": {},
   "source": [
    "## Understanding difference between Compiler and Interpreter\n",
    " Compiler coverts the code as a whole from high level language to machine code whereas,\n",
    " Interpreter converts the code line by line from high language to machine code."
   ]
  },
  {
   "cell_type": "code",
   "execution_count": 6,
   "metadata": {},
   "outputs": [
    {
     "name": "stdout",
     "output_type": "stream",
     "text": [
      "This is an incorrect statement 25\n"
     ]
    },
    {
     "ename": "NameError",
     "evalue": "name 'test1' is not defined",
     "output_type": "error",
     "traceback": [
      "\u001b[0;31m---------------------------------------------------------------------------\u001b[0m",
      "\u001b[0;31mNameError\u001b[0m                                 Traceback (most recent call last)",
      "\u001b[0;32m<ipython-input-6-8892d010c5c5>\u001b[0m in \u001b[0;36m<module>\u001b[0;34m\u001b[0m\n\u001b[1;32m      1\u001b[0m \u001b[0mtest\u001b[0m\u001b[0;34m=\u001b[0m\u001b[0mint\u001b[0m\u001b[0;34m(\u001b[0m\u001b[0minput\u001b[0m\u001b[0;34m(\u001b[0m\u001b[0;34m\"This is an incorrect statement \"\u001b[0m\u001b[0;34m)\u001b[0m\u001b[0;34m)\u001b[0m\u001b[0;34m\u001b[0m\u001b[0;34m\u001b[0m\u001b[0m\n\u001b[0;32m----> 2\u001b[0;31m \u001b[0mtest\u001b[0m\u001b[0;34m=\u001b[0m\u001b[0mtest1\u001b[0m\u001b[0;34m+\u001b[0m\u001b[0;36m1\u001b[0m\u001b[0;34m\u001b[0m\u001b[0;34m\u001b[0m\u001b[0m\n\u001b[0m\u001b[1;32m      3\u001b[0m \u001b[0mtest\u001b[0m\u001b[0;34m\u001b[0m\u001b[0;34m\u001b[0m\u001b[0m\n",
      "\u001b[0;31mNameError\u001b[0m: name 'test1' is not defined"
     ]
    }
   ],
   "source": [
    "test=int(input(\"This is an incorrect statement \"))\n",
    "test=test1+1\n",
    "test"
   ]
  },
  {
   "cell_type": "markdown",
   "metadata": {},
   "source": [
    "## Keywords\n",
    "- Keywords are reserved words which are used by language \n",
    "- Keywords can not be used as variable name\n",
    "\n",
    "### List of Keywords in python\n",
    "\n",
    "- `and`, `exec`, `not`, `assert`, `finally`, `or`, `break`, `for`, `pass`, `class`, `from`, `print`, `continue`, `global`, `raise`, `del`, \n",
    "- `if`, `return`, `import`,\t`try`, `elif`, `in`, `while`, `else`, `is`, `with`, `except`, `lambda`, `yield`"
   ]
  },
  {
   "cell_type": "markdown",
   "metadata": {},
   "source": [
    "## Comments\n",
    "\n",
    "### Single Line comment\n",
    "\n",
    "use `#` for single line comment\n",
    "\n",
    "### Multi Line comment\n",
    "use `'''` (three single quotes) \n",
    "\n",
    "Note: This is not PEP-8 supported coding standard. Use multiple single line comment to conform to PEP-8.\n",
    "\n",
    "for example:"
   ]
  },
  {
   "cell_type": "code",
   "execution_count": 7,
   "metadata": {},
   "outputs": [
    {
     "name": "stdout",
     "output_type": "stream",
     "text": [
      "hello commenting\n"
     ]
    }
   ],
   "source": [
    "'''\n",
    "This is an example to demonstrate single and multi-line comment\n",
    "\n",
    "Multi-line comment\n",
    "'''\n",
    "# single line comment\n",
    "\n",
    "print (\"hello commenting\")     "
   ]
  }
 ],
 "metadata": {
  "kernelspec": {
   "display_name": "NB_9999",
   "language": "python",
   "name": "nb_9999"
  },
  "language_info": {
   "codemirror_mode": {
    "name": "ipython",
    "version": 3
   },
   "file_extension": ".py",
   "mimetype": "text/x-python",
   "name": "python",
   "nbconvert_exporter": "python",
   "pygments_lexer": "ipython3",
   "version": "3.8.5"
  }
 },
 "nbformat": 4,
 "nbformat_minor": 2
}
