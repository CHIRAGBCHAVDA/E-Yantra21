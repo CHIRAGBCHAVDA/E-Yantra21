{
 "cells": [
  {
   "cell_type": "markdown",
   "metadata": {},
   "source": [
    "## <center>List </center>\n",
    "### <center>Author: e-Yantra Team </center>"
   ]
  },
  {
   "cell_type": "markdown",
   "metadata": {},
   "source": [
    "## Topics to cover\n",
    "\n",
    "- Defining List\n",
    "- Indexing, slicing, check membership\n",
    "- length (len), compare (cmp), max, min, convert list to tuple and string\n",
    "- copy, shallow copy\n",
    "- Multi-dimension\n",
    "- list to string using join\n",
    "- string to list using split\n",
    "- Methods\n",
    "    - append\n",
    "    - insert\n",
    "    - count\n",
    "    - extend\n",
    "    - index\n",
    "    - pop\n",
    "    - remove\n",
    "    - reverse\n",
    "    - sort (reverse=True)\n",
    "    - sorted\n",
    "    \n",
    "## tuples vs lists \n",
    "    1. tuples are immutable i.e. cannot be changed unlike lists \n",
    "    2. tuples use parentheses, whereas lists use square brackets"
   ]
  },
  {
   "cell_type": "markdown",
   "metadata": {},
   "source": [
    "## Declaring a List"
   ]
  },
  {
   "cell_type": "code",
   "execution_count": 1,
   "metadata": {},
   "outputs": [
    {
     "name": "stdout",
     "output_type": "stream",
     "text": [
      "['Sanam', 'Sachin', 'Ajit']\n",
      "<class 'list'>\n"
     ]
    }
   ],
   "source": [
    "cs101_students = []        # create empty list \n",
    "cs101_students = list()    # create empty list \n",
    "cs101_students = ['Sanam','Sachin','Ajit']\n",
    "print (cs101_students)\n",
    "print (type(cs101_students))"
   ]
  },
  {
   "cell_type": "markdown",
   "metadata": {},
   "source": [
    "## Accessing Elements of list\n",
    "\n",
    "- Using slicing and indexing - as we did in string manipulation"
   ]
  },
  {
   "cell_type": "code",
   "execution_count": 2,
   "metadata": {},
   "outputs": [
    {
     "name": "stdout",
     "output_type": "stream",
     "text": [
      "Sanam\n",
      "['Sanam', 'Sachin']\n",
      "['Sachin', 'Ajit']\n"
     ]
    }
   ],
   "source": [
    "cs101_students = ['Sanam','Sachin','Ajit']\n",
    "\n",
    "print (cs101_students[0])\n",
    "print (cs101_students[0:2])\n",
    "print (cs101_students[-2:])  # negative indexing"
   ]
  },
  {
   "cell_type": "markdown",
   "metadata": {},
   "source": [
    "## Updating List - using index\n",
    "- You can replace old element with new\n",
    "- New element can not be added to list"
   ]
  },
  {
   "cell_type": "code",
   "execution_count": 3,
   "metadata": {},
   "outputs": [
    {
     "name": "stdout",
     "output_type": "stream",
     "text": [
      "['Sanam', 'Sachin', 'Ajit']\n",
      "['Sanam', 'Piyush', 'Ajit']\n"
     ]
    }
   ],
   "source": [
    "cs101_students = ['Sanam','Sachin','Ajit']\n",
    "print (cs101_students)\n",
    "cs101_students[1] = 'Piyush'\n",
    "print (cs101_students)\n",
    "# cs101_students[3] = 'Piyush'           # Not valid operation - Give Index Error"
   ]
  },
  {
   "cell_type": "markdown",
   "metadata": {},
   "source": [
    "## Updating List - using append() method\n",
    "- append method takes one input as parameter\n",
    "- add new element to the end of list"
   ]
  },
  {
   "cell_type": "code",
   "execution_count": 4,
   "metadata": {},
   "outputs": [
    {
     "name": "stdout",
     "output_type": "stream",
     "text": [
      "['Sanam', 'Sachin', 'Ajit']\n",
      "['Sanam', 'Sachin', 'Ajit', 'Piyush']\n",
      "['Sanam', 'Sachin', 'Ajit', 'Piyush', 'Deepa']\n"
     ]
    }
   ],
   "source": [
    "cs101_students = ['Sanam','Sachin','Ajit']\n",
    "print (cs101_students)\n",
    "cs101_students.append('Piyush')\n",
    "print (cs101_students)\n",
    "cs101_students.append('Deepa')\n",
    "print (cs101_students)"
   ]
  },
  {
   "cell_type": "markdown",
   "metadata": {},
   "source": [
    "## Insertion of element\n",
    "- `listname.insert(index,element)`\n",
    "    - `listname` is name of list\n",
    "    - `index` is position where insertion needs to be done"
   ]
  },
  {
   "cell_type": "code",
   "execution_count": 5,
   "metadata": {},
   "outputs": [
    {
     "name": "stdout",
     "output_type": "stream",
     "text": [
      "['Sanam', 'Piyush', 'Sachin', 'Ajit']\n",
      "['Sanam', [1, 2, 3], 'Piyush', 'Sachin', 'Ajit']\n"
     ]
    }
   ],
   "source": [
    "cs101_students = ['Sanam','Sachin','Ajit']\n",
    "cs101_students.insert(1,\"Piyush\")          # Insert \"Piyush\" at index 1\n",
    "print (cs101_students)\n",
    "cs101_students.insert(1,[1,2,3])          # Insert list [1,2,3] at index 1\n",
    "print (cs101_students)"
   ]
  },
  {
   "cell_type": "markdown",
   "metadata": {},
   "source": [
    "## Extend list\n",
    "- Adding multiple element to the end of list"
   ]
  },
  {
   "cell_type": "code",
   "execution_count": 6,
   "metadata": {},
   "outputs": [
    {
     "name": "stdout",
     "output_type": "stream",
     "text": [
      "['Sanam', 'Sachin', 'Ajit']\n",
      "['Deepa', 'Rutuja', 'Sanam', 'Sachin', 'Ajit']\n"
     ]
    }
   ],
   "source": [
    "cs101_students = ['Sanam','Sachin','Ajit']\n",
    "cs102_students = ['Deepa','Rutuja']\n",
    "\n",
    "print (cs101_students)\n",
    "cs102_students.extend(cs101_students)\n",
    "print (cs102_students)"
   ]
  },
  {
   "cell_type": "markdown",
   "metadata": {
    "collapsed": true
   },
   "source": [
    "## Basic List operation\n",
    "- len\n",
    "- min\n",
    "- max\n",
    "- Repetition\n",
    "- Membership\n",
    "- Iteration  "
   ]
  },
  {
   "cell_type": "code",
   "execution_count": 7,
   "metadata": {},
   "outputs": [
    {
     "name": "stdout",
     "output_type": "stream",
     "text": [
      "length of list:  3\n",
      "min. value:  Ajit\n",
      "max. value:  Sanam\n",
      "repeat same element in list:  [96, 96, 96, 96]\n"
     ]
    }
   ],
   "source": [
    "cs101_students = ['Sanam','Sachin','Ajit']\n",
    "\n",
    "cs101_marks = 4*[96,]\n",
    "\n",
    "print (\"length of list: \", len(cs101_students))\n",
    "print (\"min. value: \", min(cs101_students))\n",
    "print (\"max. value: \", max(cs101_students))\n",
    "print (\"repeat same element in list: \", cs101_marks)"
   ]
  },
  {
   "cell_type": "code",
   "execution_count": 8,
   "metadata": {},
   "outputs": [
    {
     "name": "stdout",
     "output_type": "stream",
     "text": [
      "True\n",
      "False\n"
     ]
    }
   ],
   "source": [
    "# check membership of element \n",
    "cs101_students = ['Sanam','Sachin','Ajit']\n",
    "\n",
    "print ('Sanam' in cs101_students)   # return true as Sanam is present\n",
    "print ('sanam' in cs101_students)   # return false as sanam(case-sensitive) is not present"
   ]
  },
  {
   "cell_type": "code",
   "execution_count": 9,
   "metadata": {},
   "outputs": [
    {
     "name": "stdout",
     "output_type": "stream",
     "text": [
      "Printing all elements of list\n",
      "Sanam\n",
      "Sachin\n",
      "Ajit\n"
     ]
    }
   ],
   "source": [
    "cs101_students = ['Sanam','Sachin','Ajit']\n",
    "\n",
    "## Iterate through all the elements of list \n",
    "print (\"Printing all elements of list\")\n",
    "for i in cs101_students:\n",
    "    print (i)"
   ]
  },
  {
   "cell_type": "markdown",
   "metadata": {},
   "source": [
    "## Counting element in list\n",
    "- `listname.count(element)`\n",
    "    - `listname` is name of list\n",
    "    - return number of time \"element\" is present in \"listname\""
   ]
  },
  {
   "cell_type": "code",
   "execution_count": 10,
   "metadata": {},
   "outputs": [
    {
     "name": "stdout",
     "output_type": "stream",
     "text": [
      "Ajit is present 2 time(s)\n",
      "Deepa is present 0 time(s)\n"
     ]
    }
   ],
   "source": [
    "cs101_students = ['Sanam','Sachin','Ajit','Ajit']\n",
    "print (\"Ajit is present %d time(s)\" %cs101_students.count(\"Ajit\"))\n",
    "print (\"Deepa is present %d time(s)\" %cs101_students.count(\"Deepa\"))"
   ]
  },
  {
   "cell_type": "markdown",
   "metadata": {},
   "source": [
    "## Finding index of element in list\n",
    "- `listname.index(element)`\n",
    "    - `listname` is name of list\n",
    "    - return index of first occurrence of `element` in `listname`\n",
    "    - If element is not present in list, error is raised "
   ]
  },
  {
   "cell_type": "code",
   "execution_count": 11,
   "metadata": {},
   "outputs": [
    {
     "name": "stdout",
     "output_type": "stream",
     "text": [
      "Sachin is present at 1 position\n"
     ]
    }
   ],
   "source": [
    "cs101_students = ['Sanam','Sachin','Ajit','Ajit']\n",
    "print (\"Sachin is present at %d position\" %cs101_students.index(\"Sachin\"))\n",
    "#print (\"Deepa is present %d time\" %cs101_students.index(\"Deepa\"))   # Gives value error as element is not present in list"
   ]
  },
  {
   "cell_type": "markdown",
   "metadata": {},
   "source": [
    "## pop\n",
    "- pop (extract and remove element)\n",
    "- `listname.pop(index)`\n",
    "    - `listname` is name of list\n",
    "    - `index` is position of element which has to be removed. If it is not specified, last element is removed\n",
    "    - return element which is removed\n",
    "    - list is updated, with last element removed"
   ]
  },
  {
   "cell_type": "code",
   "execution_count": 12,
   "metadata": {},
   "outputs": [
    {
     "name": "stdout",
     "output_type": "stream",
     "text": [
      "Element pop is:  Deepa\n",
      "Updated list is:  ['Sanam', 'Sachin', 'Ajit']\n",
      "Element pop is:  Sachin\n",
      "Updated list is:  ['Sanam', 'Ajit', 'Deepa']\n"
     ]
    }
   ],
   "source": [
    "cs101_students = ['Sanam','Sachin','Ajit','Deepa']\n",
    "print (\"Element pop is: \",cs101_students.pop())   # pop element at last index\n",
    "print (\"Updated list is: \",cs101_students)\n",
    "\n",
    "cs101_students = ['Sanam','Sachin','Ajit','Deepa']\n",
    "print (\"Element pop is: \",cs101_students.pop(1))  # pop element at index 1 \n",
    "print (\"Updated list is: \",cs101_students)"
   ]
  },
  {
   "cell_type": "markdown",
   "metadata": {},
   "source": [
    "## remove\n",
    "- remove (remove element)\n",
    "- `listname.remove(element)`\n",
    "    - `listname` is name of list\n",
    "    - `element` is one which has to be removed. If element is not present in list, gives value error \n",
    "- How remove is different from pop - does not return anything"
   ]
  },
  {
   "cell_type": "code",
   "execution_count": 13,
   "metadata": {},
   "outputs": [
    {
     "name": "stdout",
     "output_type": "stream",
     "text": [
      "Element removed is:  None\n",
      "Updated list is:  ['Sanam', 'Sachin', 'Deepa', 'Ajit']\n"
     ]
    }
   ],
   "source": [
    "cs101_students = ['Sanam','Sachin','Ajit','Deepa','Ajit']\n",
    "print (\"Element removed is: \",cs101_students.remove('Ajit'))      # remove method returns nothing\n",
    "print (\"Updated list is: \",cs101_students)                        # It will remove the first matching element\n",
    "#cs101_students.remove('Saurav')       # Element 'Saurav' is not present - hence this will give value error"
   ]
  },
  {
   "cell_type": "markdown",
   "metadata": {},
   "source": [
    "## reverse\n",
    "- reverse ordering of list in place\n",
    "- return nothing"
   ]
  },
  {
   "cell_type": "code",
   "execution_count": 14,
   "metadata": {},
   "outputs": [
    {
     "name": "stdout",
     "output_type": "stream",
     "text": [
      "['Deepa', 'Ajit', 'Sachin', 'Sanam']\n",
      "None\n"
     ]
    }
   ],
   "source": [
    "cs101_students = ['Sanam','Sachin','Ajit','Deepa']\n",
    "#reversed_list = cs101_students\n",
    "rev = cs101_students.reverse()             # method reverse returns nothing\n",
    "print (cs101_students)                       # List is updated in reverse order\n",
    "print (rev)"
   ]
  },
  {
   "cell_type": "markdown",
   "metadata": {},
   "source": [
    "## sort\n",
    "- sort list in place\n",
    "- return nothing\n",
    "- sorting order can be reversed using reverse parameter by setting `reverse=True`"
   ]
  },
  {
   "cell_type": "code",
   "execution_count": 15,
   "metadata": {},
   "outputs": [
    {
     "name": "stdout",
     "output_type": "stream",
     "text": [
      "['Ajit', 'Deepa', 'Sachin', 'Sanam']\n",
      "None\n",
      "['Sanam', 'Sachin', 'Deepa', 'Ajit']\n"
     ]
    }
   ],
   "source": [
    "cs101_students = ['Sanam','Sachin','Ajit','Deepa']\n",
    "#reversed_list = cs101_students\n",
    "rev = cs101_students.sort()               # method sort returns nothing\n",
    "print (cs101_students)                    # List is updated in sorted order\n",
    "print (rev)\n",
    "\n",
    "cs101_students.sort(reverse=True)         # reverse sorting\n",
    "print (cs101_students)"
   ]
  },
  {
   "cell_type": "markdown",
   "metadata": {},
   "source": [
    "## Copying a list\n",
    "- copying one list to another list"
   ]
  },
  {
   "cell_type": "code",
   "execution_count": 16,
   "metadata": {},
   "outputs": [
    {
     "name": "stdout",
     "output_type": "stream",
     "text": [
      "[1, 2, 3, 4]\n",
      "[1, 2, 3, 4]\n",
      "[9, 2, 3, 4]\n",
      "[9, 2, 3, 4]\n"
     ]
    }
   ],
   "source": [
    "my_list = [1,2,3,4]\n",
    "new_list = my_list\n",
    "\n",
    "print (my_list)\n",
    "print (new_list)\n",
    "\n",
    "my_list[0] = 9\n",
    "\n",
    "print (my_list)\n",
    "print (new_list)       #Both the list refer to the same list"
   ]
  },
  {
   "cell_type": "markdown",
   "metadata": {},
   "source": [
    "## Conversion to other data-structure\n",
    "- it is possible to convert List to Tuple or String and vice-versa"
   ]
  },
  {
   "cell_type": "code",
   "execution_count": 17,
   "metadata": {},
   "outputs": [
    {
     "name": "stdout",
     "output_type": "stream",
     "text": [
      "List to Tuple:  ('Sanam', 'Sachin', 'Ajit', 'Deepa') <class 'tuple'>\n",
      "Tuple to list:  ['Sanam', 'Sachin', 'Ajit', 'Deepa'] <class 'list'>\n",
      "List to String:  Sanam Sachin Ajit Deepa <class 'str'>\n",
      "String to List:  ['Sanam', 'Sachin', 'Ajit', 'Deepa'] <class 'list'>\n"
     ]
    }
   ],
   "source": [
    "cs101_students = ['Sanam','Sachin','Ajit','Deepa']\n",
    "\n",
    "## List to tuple \n",
    "tup = tuple(cs101_students)\n",
    "print (\"List to Tuple: \",tup, type(tup))\n",
    "\n",
    "## Tuple to List\n",
    "lst = list(tup)\n",
    "print (\"Tuple to list: \",lst, type(lst))\n",
    "\n",
    "##List to String\n",
    "string = \" \".join(cs101_students)\n",
    "print (\"List to String: \", string, type(string))\n",
    "\n",
    "# ##String to List\n",
    "str_lst = list(string.split( ))\n",
    "print (\"String to List: \",str_lst, type(str_lst))"
   ]
  },
  {
   "cell_type": "markdown",
   "metadata": {},
   "source": [
    "## Multi-dimension list\n",
    "- List of list\n",
    "- List of tuple\n",
    "- List of tuple, list and string"
   ]
  },
  {
   "cell_type": "code",
   "execution_count": 18,
   "metadata": {},
   "outputs": [
    {
     "name": "stdout",
     "output_type": "stream",
     "text": [
      "[[10, 5.5, 8, 9, 8.5], 0, ('Sanam', 'Sachin', 'Ajit', 'Deepa', 'Piyush'), ('Sanam', 'Sachin', 'Ajit', 'Deepa', 'Piyush'), ['Electronics', 'C-Prog', 'Data-structure', 'Digital Circuits']]\n",
      "[10, 5.5, 8, 9, 8.5]\n",
      "Ajit\n",
      "Digital Circuits\n"
     ]
    }
   ],
   "source": [
    "roll = (1,2,3,4,5)\n",
    "name = ('Sanam', 'Sachin', 'Ajit', 'Deepa','Piyush')\n",
    "marks = [10,5.5,8,9,8.5]\n",
    "subject = ['Electronics','C-Prog', 'Data-structure','Digital Circuits']\n",
    "\n",
    "information = [0]\n",
    "\n",
    "information.insert(5,name)\n",
    "information.insert(2,name)\n",
    "information.insert(0,marks)\n",
    "information.insert(4,subject)\n",
    "\n",
    "print (information)\n",
    "print (information[0])\n",
    "print (information[2][2])\n",
    "print (information[4][3])"
   ]
  }
 ],
 "metadata": {
  "kernelspec": {
   "display_name": "NB_9999",
   "language": "python",
   "name": "nb_9999"
  },
  "language_info": {
   "codemirror_mode": {
    "name": "ipython",
    "version": 3
   },
   "file_extension": ".py",
   "mimetype": "text/x-python",
   "name": "python",
   "nbconvert_exporter": "python",
   "pygments_lexer": "ipython3",
   "version": "3.8.5"
  }
 },
 "nbformat": 4,
 "nbformat_minor": 2
}
