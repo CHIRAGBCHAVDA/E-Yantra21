{
 "cells": [
  {
   "cell_type": "markdown",
   "metadata": {},
   "source": [
    "## <center>Dictionary </center>\n",
    "### <center>Author: e-Yantra Team </center>"
   ]
  },
  {
   "cell_type": "markdown",
   "metadata": {},
   "source": [
    "## Topics Covered\n",
    "\n",
    "- Defining dictionary\n",
    "- Accessing values\n",
    "- updating dictionary\n",
    "- deletion\n",
    "- compare, len, string representation\n",
    "- Methods\n",
    "    - clear\n",
    "    - copy\n",
    "    - fromkeys\n",
    "    - get\n",
    "    - has_key\n",
    "    - items\n",
    "    - keys\n",
    "    - values\n",
    "    - update\n",
    "        \n",
    "## Key Concepts\n",
    "- key-value\n",
    "- Keys are immutable\n",
    "- Duplicate key is **NOT** allowed"
   ]
  },
  {
   "cell_type": "markdown",
   "metadata": {
    "collapsed": true
   },
   "source": [
    "## Declaring a Dictionary \n",
    "\n",
    "- Each key is separated from its value by a colon (:)\n",
    "- the items are separated by commas, and the whole thing is enclosed in curly braces. \n",
    "- An empty dictionary without any items is written with just two curly braces - {}\n",
    "- Keys are unique \n",
    "- values may or may not be unique. \n",
    "- The values of a dictionary can be of any type"
   ]
  },
  {
   "cell_type": "code",
   "execution_count": 1,
   "metadata": {},
   "outputs": [
    {
     "name": "stdout",
     "output_type": "stream",
     "text": [
      "{'1701': ['Sanam', 'CS', '9.01', 'sem-4'], '1702': ['Sachin', 'EC', '8.0', 'sem-4']}\n"
     ]
    }
   ],
   "source": [
    "my_dict = {}              # Empty Dictionary\n",
    "my_dict_1 = dict()        # Empty Dictionary\n",
    "my_dict = {'1701':[\"Sanam\",\"CS\",\"9.01\",\"sem-4\"], '1702':[\"Sachin\",\"EC\",\"8.0\",\"sem-4\"]}\n",
    "\n",
    "print (my_dict)"
   ]
  },
  {
   "cell_type": "markdown",
   "metadata": {
    "collapsed": true
   },
   "source": [
    "## Accessing a dictionary\n",
    "- Dictionary can be assessed by its key\n",
    "- If key does not exist, python raises KeyError"
   ]
  },
  {
   "cell_type": "code",
   "execution_count": 2,
   "metadata": {},
   "outputs": [
    {
     "name": "stdout",
     "output_type": "stream",
     "text": [
      "['Sanam', 'CS', '9.01', 'sem-4']\n",
      "['Sachin', 'EC', '8.0', 'sem-4']\n"
     ]
    }
   ],
   "source": [
    "my_dict = {'1701':[\"Sanam\",\"CS\",\"9.01\",\"sem-4\"], '1702':[\"Sachin\",\"EC\",\"8.0\",\"sem-4\"], '1704':'Piyush'}\n",
    "print (my_dict['1701'])\n",
    "print (my_dict['1702'])\n",
    "# print my_dict['1703']                   # Key Error is raised as 1703 is not the key in dictionary"
   ]
  },
  {
   "cell_type": "markdown",
   "metadata": {
    "collapsed": true
   },
   "source": [
    "## Updating Dictionary\n",
    "\n",
    "- adding a new entry or a key-value pair, \n",
    "- modifying an existing entry, or \n",
    "- deleting an existing entry"
   ]
  },
  {
   "cell_type": "code",
   "execution_count": 3,
   "metadata": {},
   "outputs": [
    {
     "name": "stdout",
     "output_type": "stream",
     "text": [
      "{'1701': ['Sanam', 'CS', '9.01', 'sem-4'], '1702': ['Sachin', 'EC', '8.0', 'sem-4'], '1704': 'Piyush', '1703': ['Ajit', 'Mech', '8.89', 'sem-5']}\n",
      "{'1701': ['Sanam', 'CS', '9.01', 'sem-4'], '1702': ['Sachin', 'EC', '8.0', 'sem-4'], '1704': ['Piyush', 'ELEC', '8.89', 'sem-5'], '1703': ['Ajit', 'Mech', '8.89', 'sem-5']}\n"
     ]
    }
   ],
   "source": [
    "my_dict = {'1701':[\"Sanam\",\"CS\",\"9.01\",\"sem-4\"], '1702':[\"Sachin\",\"EC\",\"8.0\",\"sem-4\"], '1704':'Piyush'}\n",
    "\n",
    "my_dict['1703'] = [\"Ajit\",\"Mech\",\"8.89\",\"sem-5\"]             # adding new element\n",
    "print (my_dict)\n",
    "\n",
    "my_dict['1704'] = [\"Piyush\",\"ELEC\",\"8.89\",\"sem-5\"]           # updating exisitng element\n",
    "print (my_dict)"
   ]
  },
  {
   "cell_type": "markdown",
   "metadata": {},
   "source": [
    "## Delete element from dictionary\n",
    "\n",
    "- remove individual dictionary elements \n",
    "- delete entire dictionary in a single operation"
   ]
  },
  {
   "cell_type": "code",
   "execution_count": 4,
   "metadata": {},
   "outputs": [
    {
     "name": "stdout",
     "output_type": "stream",
     "text": [
      "{'1702': ['Sachin', 'EC', '8.0', 'sem-4'], '1704': 'Piyush'}\n"
     ]
    }
   ],
   "source": [
    "my_dict = {'1701':[\"Sanam\",\"CS\",\"9.01\",\"sem-4\"], '1702':[\"Sachin\",\"EC\",\"8.0\",\"sem-4\"], '1704':'Piyush'}\n",
    "\n",
    "del (my_dict['1701'])       # Value corresponding to key value 1701 is deleted\n",
    "print (my_dict)             # return list of all key in my_dict\n",
    "\n",
    "del (my_dict)         # delete complete dictionary\n",
    "#print (my_dict)      # As dictionary is completely deleted, python will generate NameError - my_dict not defined"
   ]
  },
  {
   "cell_type": "markdown",
   "metadata": {},
   "source": [
    "## Dictionary Builtin functions\n",
    "- `len(my_dict)` - returns length of dictionary i.e. number of keys in dictionary\n",
    "- `str(my_dict)` - return string representation of entire dictionary\n",
    "- `type(my_dict)` - standard `type()` function. Return 'dict' for dictionary variable"
   ]
  },
  {
   "cell_type": "code",
   "execution_count": 5,
   "metadata": {},
   "outputs": [
    {
     "name": "stdout",
     "output_type": "stream",
     "text": [
      "3\n",
      "{'1701': ['Sanam', 'CS', '9.01', 'sem-4'], '1702': ['Sachin', 'EC', '8.0', 'sem-4'], '1704': 'Piyush'}\n",
      "102\n",
      "{'17\n",
      "<class 'dict'>\n"
     ]
    }
   ],
   "source": [
    "my_dict = {'1701':[\"Sanam\",\"CS\",\"9.01\",\"sem-4\"], '1702':[\"Sachin\",\"EC\",\"8.0\",\"sem-4\"], '1704':'Piyush'}\n",
    "print (len(my_dict))\n",
    "print (str(my_dict))\n",
    "print (len(str(my_dict))) #It counts individual element including {,\",alphabets etc.\n",
    "print (str(my_dict)[0:4])\n",
    "print (type(my_dict))"
   ]
  },
  {
   "cell_type": "markdown",
   "metadata": {},
   "source": [
    "## Dictionary Builtin methods\n",
    "- `clear()` - clear all elements of dictionary. Results in empty dictionary\n",
    "- `copy()` - create a copy of dictionary\n",
    "- `get(key, default=None)` - Returns value for given key. If Key is not present, returns the second argument.                            Second parameter is optional having default value of None\n",
    "- `has_key(key)` - returns True is key is present in dictionary, else returns False.\n",
    "- `items()`  - returns list of `(key,value)` tuple\n",
    "- `keys()`   - returns list of all key\n",
    "- `values()` - returns list of list of values "
   ]
  },
  {
   "cell_type": "code",
   "execution_count": 6,
   "metadata": {},
   "outputs": [
    {
     "name": "stdout",
     "output_type": "stream",
     "text": [
      "{}\n"
     ]
    }
   ],
   "source": [
    "# clear all elements of dictionary\n",
    "my_dict = {'1701':[\"Sanam\",\"CS\",\"9.01\",\"sem-4\"], '1702':[\"Sachin\",\"EC\",\"8.0\",\"sem-4\"], '1704':'Piyush'}\n",
    "\n",
    "my_dict.clear()                # clear all elements of dictionary\n",
    "print (my_dict)                # empty dictionary"
   ]
  },
  {
   "cell_type": "code",
   "execution_count": 7,
   "metadata": {},
   "outputs": [
    {
     "name": "stdout",
     "output_type": "stream",
     "text": [
      "{'1701': ['Sanam', 'CS', '9.01', 'sem-4'], '1702': ['Sachin', 'EC', '8.0', 'sem-4'], '1704': 'Piyush'}\n",
      "{'1701': ['Sanam', 'CS', '9.01', 'sem-4'], '1702': ['Sachin', 'EC', '8.0', 'sem-4'], '1704': 'Piyush'}\n"
     ]
    }
   ],
   "source": [
    "my_dict = {'1701':[\"Sanam\",\"CS\",\"9.01\",\"sem-4\"], '1702':[\"Sachin\",\"EC\",\"8.0\",\"sem-4\"], '1704':'Piyush'}\n",
    "\n",
    "my_dict_copy = my_dict.copy()     # create a copy of dictionary\n",
    "print (my_dict)\n",
    "print (my_dict_copy)"
   ]
  },
  {
   "cell_type": "code",
   "execution_count": 8,
   "metadata": {},
   "outputs": [
    {
     "name": "stdout",
     "output_type": "stream",
     "text": [
      "['Sanam', 'CS', '9.01', 'sem-4']\n",
      "None\n"
     ]
    }
   ],
   "source": [
    "# get values for given key\n",
    "my_dict = {'1701':[\"Sanam\",\"CS\",\"9.01\",\"sem-4\"], '1702':[\"Sachin\",\"EC\",\"8.0\",\"sem-4\"], '1704':'Piyush'}\n",
    "\n",
    "print (my_dict.get('1701'))         # returns value of dictionary stored for the given key\n",
    "print (my_dict.get('1705'))         # returns None as 1705 is not a key in my_dict"
   ]
  },
  {
   "cell_type": "code",
   "execution_count": 9,
   "metadata": {},
   "outputs": [
    {
     "name": "stdout",
     "output_type": "stream",
     "text": [
      "True\n",
      "False\n"
     ]
    }
   ],
   "source": [
    "# check if key is present in dictionary\n",
    "my_dict = {'1701':[\"Sanam\",\"CS\",\"9.01\",\"sem-4\"], '1702':[\"Sachin\",\"EC\",\"8.0\",\"sem-4\"], '1704':'Piyush'}\n",
    "\n",
    "print ('1701' in my_dict)       # returns True for Key present in my_dict\n",
    "print ('1705' in my_dict)       # returns False for Key present in my_dict"
   ]
  },
  {
   "cell_type": "code",
   "execution_count": 10,
   "metadata": {},
   "outputs": [
    {
     "name": "stdout",
     "output_type": "stream",
     "text": [
      "dict_keys(['1701', '1702', '1704'])\n"
     ]
    }
   ],
   "source": [
    "# get list of all keys\n",
    "my_dict = {'1701':[\"Sanam\",\"CS\",\"9.01\",\"sem-4\"], '1702':[\"Sachin\",\"EC\",\"8.0\",\"sem-4\"], '1704':'Piyush'}\n",
    "\n",
    "print (my_dict.keys())             # return list of all key in my_dict"
   ]
  },
  {
   "cell_type": "code",
   "execution_count": 11,
   "metadata": {},
   "outputs": [
    {
     "name": "stdout",
     "output_type": "stream",
     "text": [
      "dict_items([('1701', ['Sanam', 'CS', '9.01', 'sem-4']), ('1702', ['Sachin', 'EC', '8.0', 'sem-4']), ('1704', 'Piyush')])\n",
      "<class 'dict_items'>\n",
      "('1701', ['Sanam', 'CS', '9.01', 'sem-4'])\n",
      "<class 'tuple'>\n"
     ]
    }
   ],
   "source": [
    "# get key and value as list of tuple\n",
    "\n",
    "my_dict = {'1701':[\"Sanam\",\"CS\",\"9.01\",\"sem-4\"], '1702':[\"Sachin\",\"EC\",\"8.0\",\"sem-4\"], '1704':'Piyush'}\n",
    "\n",
    "print (my_dict.items())             \n",
    "print (type(my_dict.items()))        # Note the type of the class.\n",
    "\n",
    "print (list(my_dict.items())[0])     # In order to use indexing we need to convert it to a list.\n",
    "print (type(list(my_dict.items())[0]))"
   ]
  },
  {
   "cell_type": "code",
   "execution_count": 12,
   "metadata": {},
   "outputs": [
    {
     "name": "stdout",
     "output_type": "stream",
     "text": [
      "dict_values([['Sanam', 'CS', '9.01', 'sem-4'], ['Sachin', 'EC', '8.0', 'sem-4'], 'Piyush'])\n"
     ]
    }
   ],
   "source": [
    "my_dict = {'1701':[\"Sanam\",\"CS\",\"9.01\",\"sem-4\"], '1702':[\"Sachin\",\"EC\",\"8.0\",\"sem-4\"], '1704':'Piyush'}\n",
    "\n",
    "print (my_dict.values())             # returns 'dict_values' type"
   ]
  }
 ],
 "metadata": {
  "kernelspec": {
   "display_name": "NB_9999",
   "language": "python",
   "name": "nb_9999"
  },
  "language_info": {
   "codemirror_mode": {
    "name": "ipython",
    "version": 3
   },
   "file_extension": ".py",
   "mimetype": "text/x-python",
   "name": "python",
   "nbconvert_exporter": "python",
   "pygments_lexer": "ipython3",
   "version": "3.8.5"
  }
 },
 "nbformat": 4,
 "nbformat_minor": 2
}
