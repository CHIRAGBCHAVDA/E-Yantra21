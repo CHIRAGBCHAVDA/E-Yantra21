{
 "cells": [
  {
   "cell_type": "markdown",
   "metadata": {},
   "source": [
    "## <center>Modules </center>\n",
    "### <center>Author: e-Yantra Team </center>"
   ]
  },
  {
   "cell_type": "markdown",
   "metadata": {},
   "source": [
    "- Modules are set of Python programs in a directory\n",
    "- We can make set of related python library into a seperate directory which we call as a module\n",
    "- Just like functions, modules are reusable"
   ]
  },
  {
   "cell_type": "code",
   "execution_count": 1,
   "metadata": {},
   "outputs": [
    {
     "name": "stdout",
     "output_type": "stream",
     "text": [
      "Welcome to Python Module\n",
      "3\n",
      "3\n",
      "2\n",
      "0.5\n",
      "2\n"
     ]
    }
   ],
   "source": [
    "import Module_1 as modu\n",
    "\n",
    "print(modu.welcome())\n",
    "print(modu.summation(1,2))\n",
    "print(modu.subtraction(1,2))\n",
    "print(modu.multiplication(1,2))\n",
    "print(modu.division(1,2))\n",
    "print(modu.greater_or_equal(1,2))"
   ]
  },
  {
   "cell_type": "code",
   "execution_count": 2,
   "metadata": {},
   "outputs": [
    {
     "name": "stdout",
     "output_type": "stream",
     "text": [
      "6\n",
      "5.0\n",
      "1.0\n",
      "2\n",
      "4\n"
     ]
    }
   ],
   "source": [
    "import math\n",
    "print(sum([1,2,3]))\n",
    "print(math.sqrt(25))\n",
    "print(math.sin(math.pi/2))\n",
    "print(math.floor(2.5))\n",
    "print(math.ceil(3.1))"
   ]
  }
 ],
 "metadata": {
  "kernelspec": {
   "display_name": "NB_9999",
   "language": "python",
   "name": "nb_9999"
  },
  "language_info": {
   "codemirror_mode": {
    "name": "ipython",
    "version": 3
   },
   "file_extension": ".py",
   "mimetype": "text/x-python",
   "name": "python",
   "nbconvert_exporter": "python",
   "pygments_lexer": "ipython3",
   "version": "3.8.5"
  }
 },
 "nbformat": 4,
 "nbformat_minor": 2
}
