{
 "cells": [
  {
   "cell_type": "markdown",
   "metadata": {},
   "source": [
    "## <center>Basic Data-types </center>\n",
    "### <center>Author: e-Yantra Team </center>"
   ]
  },
  {
   "cell_type": "markdown",
   "metadata": {},
   "source": [
    "## Topics covered\n",
    "- int\n",
    "- long\n",
    "- float\n",
    "- complex\n",
    "- boolean"
   ]
  },
  {
   "cell_type": "markdown",
   "metadata": {},
   "source": [
    "Three built-in data types in python to represent numbers: \n",
    "\n",
    "1. int\n",
    "2. float\n",
    "3. complex"
   ]
  },
  {
   "cell_type": "markdown",
   "metadata": {},
   "source": [
    "### Integer"
   ]
  },
  {
   "cell_type": "code",
   "execution_count": 1,
   "metadata": {},
   "outputs": [
    {
     "name": "stdout",
     "output_type": "stream",
     "text": [
      "52\n",
      "<class 'int'>\n"
     ]
    }
   ],
   "source": [
    "import sys\n",
    "integer_number = 52\n",
    "print (integer_number)\n",
    "print (type(integer_number))\n"
   ]
  },
  {
   "cell_type": "markdown",
   "metadata": {},
   "source": [
    "### Long"
   ]
  },
  {
   "cell_type": "code",
   "execution_count": 2,
   "metadata": {},
   "outputs": [
    {
     "name": "stdout",
     "output_type": "stream",
     "text": [
      "9223372036854775807\n",
      "<class 'int'>\n"
     ]
    }
   ],
   "source": [
    "import sys\n",
    "print (sys.maxsize)\n",
    "# long_number = 9223372036854775808\n",
    "print (type(sys.maxsize))"
   ]
  },
  {
   "cell_type": "markdown",
   "metadata": {},
   "source": [
    "### Float"
   ]
  },
  {
   "cell_type": "code",
   "execution_count": 3,
   "metadata": {},
   "outputs": [
    {
     "name": "stdout",
     "output_type": "stream",
     "text": [
      "<class 'float'>\n"
     ]
    }
   ],
   "source": [
    "float_number = 56.78\n",
    "print (type(float_number))"
   ]
  },
  {
   "cell_type": "markdown",
   "metadata": {},
   "source": [
    "### Defining Complex number\n",
    "\n",
    "- complex(real,imag)\n",
    "- j represent imaginary part\n",
    "- both real and imaginary part are float numbers"
   ]
  },
  {
   "cell_type": "code",
   "execution_count": 4,
   "metadata": {},
   "outputs": [
    {
     "name": "stdout",
     "output_type": "stream",
     "text": [
      "Real Number: 3.0 \tType:  <class 'float'>\n",
      "Imaginary Number: 4.0 \tType:  <class 'float'>\n",
      "Complex Number: (3+4j) \tType:  <class 'complex'>\n",
      "Complex Number: (3+4j) \tType:  <class 'complex'>\n",
      "Conjugate of complex number: (3-4j)\n"
     ]
    }
   ],
   "source": [
    "cmp_number = 3 + 4j       # j represent imaginary part of complex number \n",
    "z = complex(3,4)          # create a complex number with real and imaginary part\n",
    "print (\"Real Number:\",cmp_number.real,\"\\tType: \", type(cmp_number.real))\n",
    "print (\"Imaginary Number:\",cmp_number.imag,\"\\tType: \", type(cmp_number.imag))\n",
    "print (\"Complex Number:\",cmp_number,\"\\tType: \",type(cmp_number))\n",
    "print (\"Complex Number:\",z,\"\\tType: \",type(z))\n",
    "print (\"Conjugate of complex number:\", cmp_number.conjugate())    # return conjugate of complex number"
   ]
  },
  {
   "cell_type": "markdown",
   "metadata": {},
   "source": [
    "## Boolean \n",
    "- True\n",
    "- False\n",
    "- and\n",
    "- or\n",
    "- not"
   ]
  },
  {
   "cell_type": "code",
   "execution_count": 5,
   "metadata": {},
   "outputs": [
    {
     "name": "stdout",
     "output_type": "stream",
     "text": [
      "False\n",
      "True\n"
     ]
    }
   ],
   "source": [
    "t = True\n",
    "f = False\n",
    "\n",
    "b = not(t)\n",
    "\n",
    "print (b)\n",
    "print ((t and f) or (not f and t))"
   ]
  }
 ],
 "metadata": {
  "kernelspec": {
   "display_name": "NB_9999",
   "language": "python",
   "name": "nb_9999"
  },
  "language_info": {
   "codemirror_mode": {
    "name": "ipython",
    "version": 3
   },
   "file_extension": ".py",
   "mimetype": "text/x-python",
   "name": "python",
   "nbconvert_exporter": "python",
   "pygments_lexer": "ipython3",
   "version": "3.8.5"
  }
 },
 "nbformat": 4,
 "nbformat_minor": 2
}
